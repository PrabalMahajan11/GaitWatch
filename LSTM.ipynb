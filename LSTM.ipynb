{
 "cells": [
  {
   "cell_type": "code",
   "execution_count": 24,
   "metadata": {},
   "outputs": [
    {
     "name": "stdout",
     "output_type": "stream",
     "text": [
      "(22, 30, 54)\n"
     ]
    }
   ],
   "source": [
    "import os\n",
    "import json\n",
    "import numpy as np\n",
    "\n",
    "X = []\n",
    "y = []\n",
    "testX = []\n",
    "testy = []\n",
    "\n",
    "for dir in os.listdir('.'):\n",
    "    if(dir==\"Testing\"):\n",
    "        for name in os.listdir('./'+dir):\n",
    "            f = './'+dir+'/'+name\n",
    "            if(name[-11:-5]==\"output\"):\n",
    "                temp = open(f)\n",
    "                data = json.load(temp)\n",
    "                testX.extend(data)\n",
    "            else:\n",
    "                temp = open(f)\n",
    "                data = json.load(temp)\n",
    "                testy.extend(data)\n",
    "    for name in os.listdir('./'+dir):\n",
    "        f = './'+dir+'/'+name\n",
    "        if(name[-11:-5]==\"output\"):\n",
    "            temp = open(f)\n",
    "            data = json.load(temp)\n",
    "            X.extend(data)\n",
    "        else:\n",
    "            temp = open(f)\n",
    "            data = json.load(temp)\n",
    "            y.extend(data)\n",
    "\n",
    "\n",
    "X = np.array(X)\n",
    "X = X.astype(float)\n",
    "y = np.array(y)\n",
    "y = y.astype(int)\n",
    "testX = np.array(testX)\n",
    "testX = testX.astype(float)\n",
    "testy = np.array(testy)\n",
    "testy = testy.astype(int)\n",
    "\n",
    "print(testX.shape)"
   ]
  },
  {
   "cell_type": "code",
   "execution_count": 20,
   "metadata": {},
   "outputs": [
    {
     "name": "stderr",
     "output_type": "stream",
     "text": [
      "2023-09-20 03:45:17.708315: I tensorflow/tsl/cuda/cudart_stub.cc:28] Could not find cuda drivers on your machine, GPU will not be used.\n",
      "2023-09-20 03:45:17.770057: I tensorflow/tsl/cuda/cudart_stub.cc:28] Could not find cuda drivers on your machine, GPU will not be used.\n",
      "2023-09-20 03:45:17.771839: I tensorflow/core/platform/cpu_feature_guard.cc:182] This TensorFlow binary is optimized to use available CPU instructions in performance-critical operations.\n",
      "To enable the following instructions: AVX2 FMA, in other operations, rebuild TensorFlow with the appropriate compiler flags.\n",
      "2023-09-20 03:45:20.386373: W tensorflow/compiler/tf2tensorrt/utils/py_utils.cc:38] TF-TRT Warning: Could not find TensorRT\n",
      "2023-09-20 03:45:24.008676: I tensorflow/compiler/xla/stream_executor/cuda/cuda_gpu_executor.cc:995] successful NUMA node read from SysFS had negative value (-1), but there must be at least one NUMA node, so returning NUMA node zero. See more at https://github.com/torvalds/linux/blob/v6.0/Documentation/ABI/testing/sysfs-bus-pci#L344-L355\n",
      "2023-09-20 03:45:24.009210: W tensorflow/core/common_runtime/gpu/gpu_device.cc:1960] Cannot dlopen some GPU libraries. Please make sure the missing libraries mentioned above are installed properly if you would like to use GPU. Follow the guide at https://www.tensorflow.org/install/gpu for how to download and setup the required libraries for your platform.\n",
      "Skipping registering GPU devices...\n"
     ]
    },
    {
     "name": "stdout",
     "output_type": "stream",
     "text": [
      "Model: \"sequential\"\n",
      "_________________________________________________________________\n",
      " Layer (type)                Output Shape              Param #   \n",
      "=================================================================\n",
      " lstm (LSTM)                 (None, 256)               318464    \n",
      "                                                                 \n",
      " dense (Dense)               (None, 1)                 257       \n",
      "                                                                 \n",
      "=================================================================\n",
      "Total params: 318721 (1.22 MB)\n",
      "Trainable params: 318721 (1.22 MB)\n",
      "Non-trainable params: 0 (0.00 Byte)\n",
      "_________________________________________________________________\n"
     ]
    }
   ],
   "source": [
    "from keras.preprocessing import sequence\n",
    "import tensorflow as tf\n",
    "from keras.models import Sequential\n",
    "from keras.layers import Dense\n",
    "from keras.layers import LSTM\n",
    "\n",
    "from keras.optimizers import Adam\n",
    "from keras.models import load_model\n",
    "from keras.callbacks import ModelCheckpoint\n",
    "\n",
    "model = Sequential()\n",
    "model.add(LSTM(256, input_shape=(30, 54)))\n",
    "model.add(Dense(1, activation='sigmoid'))\n",
    "model.summary()"
   ]
  },
  {
   "cell_type": "code",
   "execution_count": 36,
   "metadata": {},
   "outputs": [
    {
     "name": "stdout",
     "output_type": "stream",
     "text": [
      "Epoch 1/50\n",
      "8/8 [==============================] - ETA: 0s - loss: -612.1479 - accuracy: 0.1680WARNING:tensorflow:Can save best model only with val_acc available, skipping.\n"
     ]
    },
    {
     "name": "stderr",
     "output_type": "stream",
     "text": [
      "WARNING:tensorflow:Can save best model only with val_acc available, skipping.\n"
     ]
    },
    {
     "name": "stdout",
     "output_type": "stream",
     "text": [
      "8/8 [==============================] - 2s 96ms/step - loss: -612.1479 - accuracy: 0.1680\n",
      "Epoch 2/50\n",
      "8/8 [==============================] - ETA: 0s - loss: -612.4044 - accuracy: 0.1680WARNING:tensorflow:Can save best model only with val_acc available, skipping.\n"
     ]
    },
    {
     "name": "stderr",
     "output_type": "stream",
     "text": [
      "WARNING:tensorflow:Can save best model only with val_acc available, skipping.\n"
     ]
    },
    {
     "name": "stdout",
     "output_type": "stream",
     "text": [
      "8/8 [==============================] - 1s 105ms/step - loss: -612.4044 - accuracy: 0.1680\n",
      "Epoch 3/50\n",
      "8/8 [==============================] - ETA: 0s - loss: -612.6559 - accuracy: 0.1680WARNING:tensorflow:Can save best model only with val_acc available, skipping.\n"
     ]
    },
    {
     "name": "stderr",
     "output_type": "stream",
     "text": [
      "WARNING:tensorflow:Can save best model only with val_acc available, skipping.\n"
     ]
    },
    {
     "name": "stdout",
     "output_type": "stream",
     "text": [
      "8/8 [==============================] - 1s 105ms/step - loss: -612.6559 - accuracy: 0.1680\n",
      "Epoch 4/50\n",
      "8/8 [==============================] - ETA: 0s - loss: -612.9222 - accuracy: 0.1680WARNING:tensorflow:Can save best model only with val_acc available, skipping.\n"
     ]
    },
    {
     "name": "stderr",
     "output_type": "stream",
     "text": [
      "WARNING:tensorflow:Can save best model only with val_acc available, skipping.\n"
     ]
    },
    {
     "name": "stdout",
     "output_type": "stream",
     "text": [
      "8/8 [==============================] - 1s 108ms/step - loss: -612.9222 - accuracy: 0.1680\n",
      "Epoch 5/50\n",
      "8/8 [==============================] - ETA: 0s - loss: -613.1758 - accuracy: 0.1680WARNING:tensorflow:Can save best model only with val_acc available, skipping.\n"
     ]
    },
    {
     "name": "stderr",
     "output_type": "stream",
     "text": [
      "WARNING:tensorflow:Can save best model only with val_acc available, skipping.\n"
     ]
    },
    {
     "name": "stdout",
     "output_type": "stream",
     "text": [
      "8/8 [==============================] - 1s 111ms/step - loss: -613.1758 - accuracy: 0.1680\n",
      "Epoch 6/50\n",
      "8/8 [==============================] - ETA: 0s - loss: -613.4271 - accuracy: 0.1680WARNING:tensorflow:Can save best model only with val_acc available, skipping.\n"
     ]
    },
    {
     "name": "stderr",
     "output_type": "stream",
     "text": [
      "WARNING:tensorflow:Can save best model only with val_acc available, skipping.\n"
     ]
    },
    {
     "name": "stdout",
     "output_type": "stream",
     "text": [
      "8/8 [==============================] - 1s 108ms/step - loss: -613.4271 - accuracy: 0.1680\n",
      "Epoch 7/50\n",
      "8/8 [==============================] - ETA: 0s - loss: -613.6870 - accuracy: 0.1680WARNING:tensorflow:Can save best model only with val_acc available, skipping.\n"
     ]
    },
    {
     "name": "stderr",
     "output_type": "stream",
     "text": [
      "WARNING:tensorflow:Can save best model only with val_acc available, skipping.\n"
     ]
    },
    {
     "name": "stdout",
     "output_type": "stream",
     "text": [
      "8/8 [==============================] - 1s 97ms/step - loss: -613.6870 - accuracy: 0.1680\n",
      "Epoch 8/50\n",
      "8/8 [==============================] - ETA: 0s - loss: -613.9415 - accuracy: 0.1680WARNING:tensorflow:Can save best model only with val_acc available, skipping.\n"
     ]
    },
    {
     "name": "stderr",
     "output_type": "stream",
     "text": [
      "WARNING:tensorflow:Can save best model only with val_acc available, skipping.\n"
     ]
    },
    {
     "name": "stdout",
     "output_type": "stream",
     "text": [
      "8/8 [==============================] - 1s 102ms/step - loss: -613.9415 - accuracy: 0.1680\n",
      "Epoch 9/50\n",
      "8/8 [==============================] - ETA: 0s - loss: -614.1942 - accuracy: 0.1680WARNING:tensorflow:Can save best model only with val_acc available, skipping.\n"
     ]
    },
    {
     "name": "stderr",
     "output_type": "stream",
     "text": [
      "WARNING:tensorflow:Can save best model only with val_acc available, skipping.\n"
     ]
    },
    {
     "name": "stdout",
     "output_type": "stream",
     "text": [
      "8/8 [==============================] - 1s 104ms/step - loss: -614.1942 - accuracy: 0.1680\n",
      "Epoch 10/50\n",
      "8/8 [==============================] - ETA: 0s - loss: -614.4525 - accuracy: 0.1680WARNING:tensorflow:Can save best model only with val_acc available, skipping.\n"
     ]
    },
    {
     "name": "stderr",
     "output_type": "stream",
     "text": [
      "WARNING:tensorflow:Can save best model only with val_acc available, skipping.\n"
     ]
    },
    {
     "name": "stdout",
     "output_type": "stream",
     "text": [
      "8/8 [==============================] - 1s 111ms/step - loss: -614.4525 - accuracy: 0.1680\n",
      "Epoch 11/50\n",
      "8/8 [==============================] - ETA: 0s - loss: -614.7118 - accuracy: 0.1680WARNING:tensorflow:Can save best model only with val_acc available, skipping.\n"
     ]
    },
    {
     "name": "stderr",
     "output_type": "stream",
     "text": [
      "WARNING:tensorflow:Can save best model only with val_acc available, skipping.\n"
     ]
    },
    {
     "name": "stdout",
     "output_type": "stream",
     "text": [
      "8/8 [==============================] - 1s 106ms/step - loss: -614.7118 - accuracy: 0.1680\n",
      "Epoch 12/50\n",
      "8/8 [==============================] - ETA: 0s - loss: -614.9824 - accuracy: 0.1680WARNING:tensorflow:Can save best model only with val_acc available, skipping.\n"
     ]
    },
    {
     "name": "stderr",
     "output_type": "stream",
     "text": [
      "WARNING:tensorflow:Can save best model only with val_acc available, skipping.\n"
     ]
    },
    {
     "name": "stdout",
     "output_type": "stream",
     "text": [
      "8/8 [==============================] - 1s 104ms/step - loss: -614.9824 - accuracy: 0.1680\n",
      "Epoch 13/50\n",
      "8/8 [==============================] - ETA: 0s - loss: -615.2460 - accuracy: 0.1680WARNING:tensorflow:Can save best model only with val_acc available, skipping.\n"
     ]
    },
    {
     "name": "stderr",
     "output_type": "stream",
     "text": [
      "WARNING:tensorflow:Can save best model only with val_acc available, skipping.\n"
     ]
    },
    {
     "name": "stdout",
     "output_type": "stream",
     "text": [
      "8/8 [==============================] - 1s 98ms/step - loss: -615.2460 - accuracy: 0.1680\n",
      "Epoch 14/50\n",
      "8/8 [==============================] - ETA: 0s - loss: -615.5101 - accuracy: 0.1680WARNING:tensorflow:Can save best model only with val_acc available, skipping.\n"
     ]
    },
    {
     "name": "stderr",
     "output_type": "stream",
     "text": [
      "WARNING:tensorflow:Can save best model only with val_acc available, skipping.\n"
     ]
    },
    {
     "name": "stdout",
     "output_type": "stream",
     "text": [
      "8/8 [==============================] - 1s 106ms/step - loss: -615.5101 - accuracy: 0.1680\n",
      "Epoch 15/50\n",
      "8/8 [==============================] - ETA: 0s - loss: -615.7613 - accuracy: 0.1680WARNING:tensorflow:Can save best model only with val_acc available, skipping.\n"
     ]
    },
    {
     "name": "stderr",
     "output_type": "stream",
     "text": [
      "WARNING:tensorflow:Can save best model only with val_acc available, skipping.\n"
     ]
    },
    {
     "name": "stdout",
     "output_type": "stream",
     "text": [
      "8/8 [==============================] - 1s 105ms/step - loss: -615.7613 - accuracy: 0.1680\n",
      "Epoch 16/50\n",
      "8/8 [==============================] - ETA: 0s - loss: -616.0129 - accuracy: 0.1680WARNING:tensorflow:Can save best model only with val_acc available, skipping.\n"
     ]
    },
    {
     "name": "stderr",
     "output_type": "stream",
     "text": [
      "WARNING:tensorflow:Can save best model only with val_acc available, skipping.\n"
     ]
    },
    {
     "name": "stdout",
     "output_type": "stream",
     "text": [
      "8/8 [==============================] - 1s 100ms/step - loss: -616.0129 - accuracy: 0.1680\n",
      "Epoch 17/50\n",
      "8/8 [==============================] - ETA: 0s - loss: -616.2737 - accuracy: 0.1680WARNING:tensorflow:Can save best model only with val_acc available, skipping.\n"
     ]
    },
    {
     "name": "stderr",
     "output_type": "stream",
     "text": [
      "WARNING:tensorflow:Can save best model only with val_acc available, skipping.\n"
     ]
    },
    {
     "name": "stdout",
     "output_type": "stream",
     "text": [
      "8/8 [==============================] - 1s 103ms/step - loss: -616.2737 - accuracy: 0.1680\n",
      "Epoch 18/50\n",
      "8/8 [==============================] - ETA: 0s - loss: -616.5338 - accuracy: 0.1680WARNING:tensorflow:Can save best model only with val_acc available, skipping.\n"
     ]
    },
    {
     "name": "stderr",
     "output_type": "stream",
     "text": [
      "WARNING:tensorflow:Can save best model only with val_acc available, skipping.\n"
     ]
    },
    {
     "name": "stdout",
     "output_type": "stream",
     "text": [
      "8/8 [==============================] - 1s 103ms/step - loss: -616.5338 - accuracy: 0.1680\n",
      "Epoch 19/50\n",
      "8/8 [==============================] - ETA: 0s - loss: -616.7944 - accuracy: 0.1680WARNING:tensorflow:Can save best model only with val_acc available, skipping.\n"
     ]
    },
    {
     "name": "stderr",
     "output_type": "stream",
     "text": [
      "WARNING:tensorflow:Can save best model only with val_acc available, skipping.\n"
     ]
    },
    {
     "name": "stdout",
     "output_type": "stream",
     "text": [
      "8/8 [==============================] - 1s 100ms/step - loss: -616.7944 - accuracy: 0.1680\n",
      "Epoch 20/50\n",
      "8/8 [==============================] - ETA: 0s - loss: -617.0470 - accuracy: 0.1680WARNING:tensorflow:Can save best model only with val_acc available, skipping.\n"
     ]
    },
    {
     "name": "stderr",
     "output_type": "stream",
     "text": [
      "WARNING:tensorflow:Can save best model only with val_acc available, skipping.\n"
     ]
    },
    {
     "name": "stdout",
     "output_type": "stream",
     "text": [
      "8/8 [==============================] - 1s 98ms/step - loss: -617.0470 - accuracy: 0.1680\n",
      "Epoch 21/50\n",
      "8/8 [==============================] - ETA: 0s - loss: -617.3149 - accuracy: 0.1680WARNING:tensorflow:Can save best model only with val_acc available, skipping.\n"
     ]
    },
    {
     "name": "stderr",
     "output_type": "stream",
     "text": [
      "WARNING:tensorflow:Can save best model only with val_acc available, skipping.\n"
     ]
    },
    {
     "name": "stdout",
     "output_type": "stream",
     "text": [
      "8/8 [==============================] - 1s 99ms/step - loss: -617.3149 - accuracy: 0.1680\n",
      "Epoch 22/50\n",
      "8/8 [==============================] - ETA: 0s - loss: -617.5867 - accuracy: 0.1680WARNING:tensorflow:Can save best model only with val_acc available, skipping.\n"
     ]
    },
    {
     "name": "stderr",
     "output_type": "stream",
     "text": [
      "WARNING:tensorflow:Can save best model only with val_acc available, skipping.\n"
     ]
    },
    {
     "name": "stdout",
     "output_type": "stream",
     "text": [
      "8/8 [==============================] - 1s 102ms/step - loss: -617.5867 - accuracy: 0.1680\n",
      "Epoch 23/50\n",
      "8/8 [==============================] - ETA: 0s - loss: -617.8446 - accuracy: 0.1680WARNING:tensorflow:Can save best model only with val_acc available, skipping.\n"
     ]
    },
    {
     "name": "stderr",
     "output_type": "stream",
     "text": [
      "WARNING:tensorflow:Can save best model only with val_acc available, skipping.\n"
     ]
    },
    {
     "name": "stdout",
     "output_type": "stream",
     "text": [
      "8/8 [==============================] - 1s 102ms/step - loss: -617.8446 - accuracy: 0.1680\n",
      "Epoch 24/50\n",
      "8/8 [==============================] - ETA: 0s - loss: -618.1067 - accuracy: 0.1680WARNING:tensorflow:Can save best model only with val_acc available, skipping.\n"
     ]
    },
    {
     "name": "stderr",
     "output_type": "stream",
     "text": [
      "WARNING:tensorflow:Can save best model only with val_acc available, skipping.\n"
     ]
    },
    {
     "name": "stdout",
     "output_type": "stream",
     "text": [
      "8/8 [==============================] - 1s 106ms/step - loss: -618.1067 - accuracy: 0.1680\n",
      "Epoch 25/50\n",
      "8/8 [==============================] - ETA: 0s - loss: -618.3647 - accuracy: 0.1680WARNING:tensorflow:Can save best model only with val_acc available, skipping.\n"
     ]
    },
    {
     "name": "stderr",
     "output_type": "stream",
     "text": [
      "WARNING:tensorflow:Can save best model only with val_acc available, skipping.\n"
     ]
    },
    {
     "name": "stdout",
     "output_type": "stream",
     "text": [
      "8/8 [==============================] - 1s 102ms/step - loss: -618.3647 - accuracy: 0.1680\n",
      "Epoch 26/50\n",
      "8/8 [==============================] - ETA: 0s - loss: -618.6128 - accuracy: 0.1680WARNING:tensorflow:Can save best model only with val_acc available, skipping.\n"
     ]
    },
    {
     "name": "stderr",
     "output_type": "stream",
     "text": [
      "WARNING:tensorflow:Can save best model only with val_acc available, skipping.\n"
     ]
    },
    {
     "name": "stdout",
     "output_type": "stream",
     "text": [
      "8/8 [==============================] - 1s 100ms/step - loss: -618.6128 - accuracy: 0.1680\n",
      "Epoch 27/50\n",
      "8/8 [==============================] - ETA: 0s - loss: -618.8703 - accuracy: 0.1680WARNING:tensorflow:Can save best model only with val_acc available, skipping.\n"
     ]
    },
    {
     "name": "stderr",
     "output_type": "stream",
     "text": [
      "WARNING:tensorflow:Can save best model only with val_acc available, skipping.\n"
     ]
    },
    {
     "name": "stdout",
     "output_type": "stream",
     "text": [
      "8/8 [==============================] - 1s 106ms/step - loss: -618.8703 - accuracy: 0.1680\n",
      "Epoch 28/50\n",
      "8/8 [==============================] - ETA: 0s - loss: -619.1317 - accuracy: 0.1680WARNING:tensorflow:Can save best model only with val_acc available, skipping.\n"
     ]
    },
    {
     "name": "stderr",
     "output_type": "stream",
     "text": [
      "WARNING:tensorflow:Can save best model only with val_acc available, skipping.\n"
     ]
    },
    {
     "name": "stdout",
     "output_type": "stream",
     "text": [
      "8/8 [==============================] - 1s 105ms/step - loss: -619.1317 - accuracy: 0.1680\n",
      "Epoch 29/50\n",
      "8/8 [==============================] - ETA: 0s - loss: -619.3723 - accuracy: 0.1680WARNING:tensorflow:Can save best model only with val_acc available, skipping.\n"
     ]
    },
    {
     "name": "stderr",
     "output_type": "stream",
     "text": [
      "WARNING:tensorflow:Can save best model only with val_acc available, skipping.\n"
     ]
    },
    {
     "name": "stdout",
     "output_type": "stream",
     "text": [
      "8/8 [==============================] - 1s 105ms/step - loss: -619.3723 - accuracy: 0.1680\n",
      "Epoch 30/50\n",
      "8/8 [==============================] - ETA: 0s - loss: -619.6371 - accuracy: 0.1680WARNING:tensorflow:Can save best model only with val_acc available, skipping.\n"
     ]
    },
    {
     "name": "stderr",
     "output_type": "stream",
     "text": [
      "WARNING:tensorflow:Can save best model only with val_acc available, skipping.\n"
     ]
    },
    {
     "name": "stdout",
     "output_type": "stream",
     "text": [
      "8/8 [==============================] - 1s 102ms/step - loss: -619.6371 - accuracy: 0.1680\n",
      "Epoch 31/50\n",
      "8/8 [==============================] - ETA: 0s - loss: -619.8972 - accuracy: 0.1680WARNING:tensorflow:Can save best model only with val_acc available, skipping.\n"
     ]
    },
    {
     "name": "stderr",
     "output_type": "stream",
     "text": [
      "WARNING:tensorflow:Can save best model only with val_acc available, skipping.\n"
     ]
    },
    {
     "name": "stdout",
     "output_type": "stream",
     "text": [
      "8/8 [==============================] - 1s 103ms/step - loss: -619.8972 - accuracy: 0.1680\n",
      "Epoch 32/50\n",
      "8/8 [==============================] - ETA: 0s - loss: -620.1462 - accuracy: 0.1680WARNING:tensorflow:Can save best model only with val_acc available, skipping.\n"
     ]
    },
    {
     "name": "stderr",
     "output_type": "stream",
     "text": [
      "WARNING:tensorflow:Can save best model only with val_acc available, skipping.\n"
     ]
    },
    {
     "name": "stdout",
     "output_type": "stream",
     "text": [
      "8/8 [==============================] - 1s 102ms/step - loss: -620.1462 - accuracy: 0.1680\n",
      "Epoch 33/50\n",
      "8/8 [==============================] - ETA: 0s - loss: -620.4008 - accuracy: 0.1680WARNING:tensorflow:Can save best model only with val_acc available, skipping.\n"
     ]
    },
    {
     "name": "stderr",
     "output_type": "stream",
     "text": [
      "WARNING:tensorflow:Can save best model only with val_acc available, skipping.\n"
     ]
    },
    {
     "name": "stdout",
     "output_type": "stream",
     "text": [
      "8/8 [==============================] - 1s 99ms/step - loss: -620.4008 - accuracy: 0.1680\n",
      "Epoch 34/50\n",
      "8/8 [==============================] - ETA: 0s - loss: -620.6531 - accuracy: 0.1680WARNING:tensorflow:Can save best model only with val_acc available, skipping.\n"
     ]
    },
    {
     "name": "stderr",
     "output_type": "stream",
     "text": [
      "WARNING:tensorflow:Can save best model only with val_acc available, skipping.\n"
     ]
    },
    {
     "name": "stdout",
     "output_type": "stream",
     "text": [
      "8/8 [==============================] - 1s 104ms/step - loss: -620.6531 - accuracy: 0.1680\n",
      "Epoch 35/50\n",
      "8/8 [==============================] - ETA: 0s - loss: -620.9133 - accuracy: 0.1680WARNING:tensorflow:Can save best model only with val_acc available, skipping.\n"
     ]
    },
    {
     "name": "stderr",
     "output_type": "stream",
     "text": [
      "WARNING:tensorflow:Can save best model only with val_acc available, skipping.\n"
     ]
    },
    {
     "name": "stdout",
     "output_type": "stream",
     "text": [
      "8/8 [==============================] - 1s 106ms/step - loss: -620.9133 - accuracy: 0.1680\n",
      "Epoch 36/50\n",
      "8/8 [==============================] - ETA: 0s - loss: -621.1591 - accuracy: 0.1680WARNING:tensorflow:Can save best model only with val_acc available, skipping.\n"
     ]
    },
    {
     "name": "stderr",
     "output_type": "stream",
     "text": [
      "WARNING:tensorflow:Can save best model only with val_acc available, skipping.\n"
     ]
    },
    {
     "name": "stdout",
     "output_type": "stream",
     "text": [
      "8/8 [==============================] - 1s 101ms/step - loss: -621.1591 - accuracy: 0.1680\n",
      "Epoch 37/50\n",
      "8/8 [==============================] - ETA: 0s - loss: -621.4332 - accuracy: 0.1680WARNING:tensorflow:Can save best model only with val_acc available, skipping.\n"
     ]
    },
    {
     "name": "stderr",
     "output_type": "stream",
     "text": [
      "WARNING:tensorflow:Can save best model only with val_acc available, skipping.\n"
     ]
    },
    {
     "name": "stdout",
     "output_type": "stream",
     "text": [
      "8/8 [==============================] - 1s 99ms/step - loss: -621.4332 - accuracy: 0.1680\n",
      "Epoch 38/50\n",
      "8/8 [==============================] - ETA: 0s - loss: -621.6750 - accuracy: 0.1680WARNING:tensorflow:Can save best model only with val_acc available, skipping.\n"
     ]
    },
    {
     "name": "stderr",
     "output_type": "stream",
     "text": [
      "WARNING:tensorflow:Can save best model only with val_acc available, skipping.\n"
     ]
    },
    {
     "name": "stdout",
     "output_type": "stream",
     "text": [
      "8/8 [==============================] - 1s 102ms/step - loss: -621.6750 - accuracy: 0.1680\n",
      "Epoch 39/50\n",
      "8/8 [==============================] - ETA: 0s - loss: -621.9285 - accuracy: 0.1680WARNING:tensorflow:Can save best model only with val_acc available, skipping.\n"
     ]
    },
    {
     "name": "stderr",
     "output_type": "stream",
     "text": [
      "WARNING:tensorflow:Can save best model only with val_acc available, skipping.\n"
     ]
    },
    {
     "name": "stdout",
     "output_type": "stream",
     "text": [
      "8/8 [==============================] - 1s 104ms/step - loss: -621.9285 - accuracy: 0.1680\n",
      "Epoch 40/50\n",
      "8/8 [==============================] - ETA: 0s - loss: -622.1818 - accuracy: 0.1680WARNING:tensorflow:Can save best model only with val_acc available, skipping.\n"
     ]
    },
    {
     "name": "stderr",
     "output_type": "stream",
     "text": [
      "WARNING:tensorflow:Can save best model only with val_acc available, skipping.\n"
     ]
    },
    {
     "name": "stdout",
     "output_type": "stream",
     "text": [
      "8/8 [==============================] - 1s 102ms/step - loss: -622.1818 - accuracy: 0.1680\n",
      "Epoch 41/50\n",
      "8/8 [==============================] - ETA: 0s - loss: -622.4402 - accuracy: 0.1680WARNING:tensorflow:Can save best model only with val_acc available, skipping.\n"
     ]
    },
    {
     "name": "stderr",
     "output_type": "stream",
     "text": [
      "WARNING:tensorflow:Can save best model only with val_acc available, skipping.\n"
     ]
    },
    {
     "name": "stdout",
     "output_type": "stream",
     "text": [
      "8/8 [==============================] - 1s 99ms/step - loss: -622.4402 - accuracy: 0.1680\n",
      "Epoch 42/50\n",
      "8/8 [==============================] - ETA: 0s - loss: -622.7037 - accuracy: 0.1680WARNING:tensorflow:Can save best model only with val_acc available, skipping.\n"
     ]
    },
    {
     "name": "stderr",
     "output_type": "stream",
     "text": [
      "WARNING:tensorflow:Can save best model only with val_acc available, skipping.\n"
     ]
    },
    {
     "name": "stdout",
     "output_type": "stream",
     "text": [
      "8/8 [==============================] - 1s 105ms/step - loss: -622.7037 - accuracy: 0.1680\n",
      "Epoch 43/50\n",
      "8/8 [==============================] - ETA: 0s - loss: -622.9528 - accuracy: 0.1680WARNING:tensorflow:Can save best model only with val_acc available, skipping.\n"
     ]
    },
    {
     "name": "stderr",
     "output_type": "stream",
     "text": [
      "WARNING:tensorflow:Can save best model only with val_acc available, skipping.\n"
     ]
    },
    {
     "name": "stdout",
     "output_type": "stream",
     "text": [
      "8/8 [==============================] - 1s 100ms/step - loss: -622.9528 - accuracy: 0.1680\n",
      "Epoch 44/50\n",
      "8/8 [==============================] - ETA: 0s - loss: -623.2180 - accuracy: 0.1680WARNING:tensorflow:Can save best model only with val_acc available, skipping.\n"
     ]
    },
    {
     "name": "stderr",
     "output_type": "stream",
     "text": [
      "WARNING:tensorflow:Can save best model only with val_acc available, skipping.\n"
     ]
    },
    {
     "name": "stdout",
     "output_type": "stream",
     "text": [
      "8/8 [==============================] - 1s 103ms/step - loss: -623.2180 - accuracy: 0.1680\n",
      "Epoch 45/50\n",
      "8/8 [==============================] - ETA: 0s - loss: -623.4663 - accuracy: 0.1680WARNING:tensorflow:Can save best model only with val_acc available, skipping.\n"
     ]
    },
    {
     "name": "stderr",
     "output_type": "stream",
     "text": [
      "WARNING:tensorflow:Can save best model only with val_acc available, skipping.\n"
     ]
    },
    {
     "name": "stdout",
     "output_type": "stream",
     "text": [
      "8/8 [==============================] - 1s 97ms/step - loss: -623.4663 - accuracy: 0.1680\n",
      "Epoch 46/50\n",
      "8/8 [==============================] - ETA: 0s - loss: -623.7220 - accuracy: 0.1680WARNING:tensorflow:Can save best model only with val_acc available, skipping.\n"
     ]
    },
    {
     "name": "stderr",
     "output_type": "stream",
     "text": [
      "WARNING:tensorflow:Can save best model only with val_acc available, skipping.\n"
     ]
    },
    {
     "name": "stdout",
     "output_type": "stream",
     "text": [
      "8/8 [==============================] - 1s 96ms/step - loss: -623.7220 - accuracy: 0.1680\n",
      "Epoch 47/50\n",
      "8/8 [==============================] - ETA: 0s - loss: -623.9797 - accuracy: 0.1680WARNING:tensorflow:Can save best model only with val_acc available, skipping.\n"
     ]
    },
    {
     "name": "stderr",
     "output_type": "stream",
     "text": [
      "WARNING:tensorflow:Can save best model only with val_acc available, skipping.\n"
     ]
    },
    {
     "name": "stdout",
     "output_type": "stream",
     "text": [
      "8/8 [==============================] - 1s 103ms/step - loss: -623.9797 - accuracy: 0.1680\n",
      "Epoch 48/50\n",
      "8/8 [==============================] - ETA: 0s - loss: -624.2330 - accuracy: 0.1680WARNING:tensorflow:Can save best model only with val_acc available, skipping.\n"
     ]
    },
    {
     "name": "stderr",
     "output_type": "stream",
     "text": [
      "WARNING:tensorflow:Can save best model only with val_acc available, skipping.\n"
     ]
    },
    {
     "name": "stdout",
     "output_type": "stream",
     "text": [
      "8/8 [==============================] - 1s 105ms/step - loss: -624.2330 - accuracy: 0.1680\n",
      "Epoch 49/50\n",
      "8/8 [==============================] - ETA: 0s - loss: -624.4854 - accuracy: 0.1680WARNING:tensorflow:Can save best model only with val_acc available, skipping.\n"
     ]
    },
    {
     "name": "stderr",
     "output_type": "stream",
     "text": [
      "WARNING:tensorflow:Can save best model only with val_acc available, skipping.\n"
     ]
    },
    {
     "name": "stdout",
     "output_type": "stream",
     "text": [
      "8/8 [==============================] - 1s 98ms/step - loss: -624.4854 - accuracy: 0.1680\n",
      "Epoch 50/50\n",
      "8/8 [==============================] - ETA: 0s - loss: -624.7387 - accuracy: 0.1680WARNING:tensorflow:Can save best model only with val_acc available, skipping.\n"
     ]
    },
    {
     "name": "stderr",
     "output_type": "stream",
     "text": [
      "WARNING:tensorflow:Can save best model only with val_acc available, skipping.\n"
     ]
    },
    {
     "name": "stdout",
     "output_type": "stream",
     "text": [
      "8/8 [==============================] - 1s 101ms/step - loss: -624.7387 - accuracy: 0.1680\n"
     ]
    },
    {
     "data": {
      "text/plain": [
       "<keras.src.callbacks.History at 0x7f583dd03f10>"
      ]
     },
     "execution_count": 36,
     "metadata": {},
     "output_type": "execute_result"
    }
   ],
   "source": [
    "adam = Adam(learning_rate=0.0001)\n",
    "chk = ModelCheckpoint('best_model.pkl', monitor='val_acc', save_best_only=True, mode='max', verbose=1)\n",
    "model.compile(loss='binary_crossentropy', optimizer=adam, metrics=['accuracy'])\n",
    "model.fit(X, y, epochs=50, batch_size=32, callbacks=[chk])"
   ]
  },
  {
   "cell_type": "code",
   "execution_count": 32,
   "metadata": {},
   "outputs": [
    {
     "name": "stdout",
     "output_type": "stream",
     "text": [
      "1/1 [==============================] - 0s 326ms/step\n"
     ]
    },
    {
     "data": {
      "text/plain": [
       "0.18181818181818182"
      ]
     },
     "execution_count": 32,
     "metadata": {},
     "output_type": "execute_result"
    }
   ],
   "source": [
    "# model = load_model('best_model.pkl')\n",
    "\n",
    "from sklearn.metrics import accuracy_score\n",
    "test_preds = model.predict(testX)\n",
    "accuracy_score(testy, test_preds)"
   ]
  }
 ],
 "metadata": {
  "kernelspec": {
   "display_name": "Python 3.8.10 64-bit",
   "language": "python",
   "name": "python3"
  },
  "language_info": {
   "codemirror_mode": {
    "name": "ipython",
    "version": 3
   },
   "file_extension": ".py",
   "mimetype": "text/x-python",
   "name": "python",
   "nbconvert_exporter": "python",
   "pygments_lexer": "ipython3",
   "version": "3.8.10"
  },
  "orig_nbformat": 4,
  "vscode": {
   "interpreter": {
    "hash": "916dbcbb3f70747c44a77c7bcd40155683ae19c65e1c03b4aa3499c5328201f1"
   }
  }
 },
 "nbformat": 4,
 "nbformat_minor": 2
}
